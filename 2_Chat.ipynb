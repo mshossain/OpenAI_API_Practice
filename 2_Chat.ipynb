{
 "cells": [
  {
   "cell_type": "code",
   "execution_count": 1,
   "id": "443bbabe-bb15-41e2-93d4-8ac34cc43abb",
   "metadata": {},
   "outputs": [],
   "source": [
    "# pip install openai\n",
    "from openai import OpenAI"
   ]
  },
  {
   "cell_type": "code",
   "execution_count": 2,
   "id": "42346b44-6f0c-4710-85dd-f4cf41f8e2d3",
   "metadata": {},
   "outputs": [],
   "source": [
    "# Load API key from a file\n",
    "with open(\"key.txt\", \"r\") as file:\n",
    "    my_api_key = file.read().strip()"
   ]
  },
  {
   "cell_type": "code",
   "execution_count": 3,
   "id": "faab73d1-48cd-4a25-b521-547abfb70605",
   "metadata": {},
   "outputs": [],
   "source": [
    "client = OpenAI(api_key=my_api_key)"
   ]
  },
  {
   "cell_type": "code",
   "execution_count": 4,
   "id": "f8da36ae-03d5-4703-8ff7-35a346bd8cea",
   "metadata": {},
   "outputs": [],
   "source": [
    "# Initial message history\n",
    "messages = [{\"role\": \"system\", \"content\": \"You are a helpful assistant.\"}]"
   ]
  },
  {
   "cell_type": "code",
   "execution_count": 5,
   "id": "b3f70c2c-5d27-4323-a914-5f570a5277d6",
   "metadata": {},
   "outputs": [
    {
     "name": "stdin",
     "output_type": "stream",
     "text": [
      "Enter 'quit' to quit, or enter your prompt:  Who is Mr. Beast?\n"
     ]
    },
    {
     "name": "stdout",
     "output_type": "stream",
     "text": [
      "\n",
      "AI says: MrBeast, whose real name is Jimmy Donaldson, is a prominent YouTuber, philanthropist, and content creator known for his extravagant challenges, donations, and large-scale philanthropic projects. He gained fame for his attention-grabbing videos where he gives away large sums of money, cars, houses, and conducts elaborate competitions with significant prizes. His channel features a mix of vlogs, stunts, and charitable initiatives, attracting millions of subscribers and views.\n",
      "\n",
      "Since starting his YouTube career in 2012, MrBeast has become one of the most popular creators on the platform, often recognized for his innovative content and generous spirit. He has also launched several ventures, including a fast-food chain called MrBeast Burger and various charity initiatives, such as Team Trees and Team Seas, focused on environmental causes. MrBeast's influence extends beyond YouTube, making him a prominent figure in online entertainment and philanthropy. \n",
      "\n"
     ]
    },
    {
     "name": "stdin",
     "output_type": "stream",
     "text": [
      "Enter 'quit' to quit, or enter your prompt:  Does he make international content?\n"
     ]
    },
    {
     "name": "stdout",
     "output_type": "stream",
     "text": [
      "\n",
      "AI says: Yes, MrBeast does create international content. While much of his content is primarily designed for a U.S. audience, he has produced videos that involve international themes or settings. For example, he has traveled to various countries to film challenges or charity events, and he has engaged with fans and creators from around the world.\n",
      "\n",
      "Additionally, MrBeast has made efforts to translate his content into different languages to reach a broader international audience. He has also collaborated with creators from other countries, further diversifying the content he produces. His global appeal is reflected in his large and diverse subscriber base, which includes viewers from various countries. \n",
      "\n"
     ]
    },
    {
     "name": "stdin",
     "output_type": "stream",
     "text": [
      "Enter 'quit' to quit, or enter your prompt:  quit\n"
     ]
    }
   ],
   "source": [
    "while True:\n",
    "    p = input(\"Enter 'quit' to quit, or enter your prompt: \")\n",
    "    if p.lower() == \"quit\":\n",
    "        break\n",
    "\n",
    "    # Add user input to the message history\n",
    "    messages.append({\"role\": \"user\", \"content\": p})\n",
    "\n",
    "    # Call the API with the full message history\n",
    "    completion = client.chat.completions.create(\n",
    "        model=\"gpt-4o-mini\",\n",
    "        messages=messages\n",
    "    )\n",
    "\n",
    "    # Get the response and add it to the message history\n",
    "    response = completion.choices[0].message.content\n",
    "    messages.append({\"role\": \"assistant\", \"content\": response})\n",
    "    \n",
    "    print(\"\\nAI says:\", response, \"\\n\")"
   ]
  },
  {
   "cell_type": "code",
   "execution_count": 6,
   "id": "f8a2b365-9177-4567-bd91-1085dd862c9d",
   "metadata": {},
   "outputs": [
    {
     "data": {
      "text/plain": [
       "[{'role': 'system', 'content': 'You are a helpful assistant.'},\n",
       " {'role': 'user', 'content': 'Who is Mr. Beast?'},\n",
       " {'role': 'assistant',\n",
       "  'content': \"MrBeast, whose real name is Jimmy Donaldson, is a prominent YouTuber, philanthropist, and content creator known for his extravagant challenges, donations, and large-scale philanthropic projects. He gained fame for his attention-grabbing videos where he gives away large sums of money, cars, houses, and conducts elaborate competitions with significant prizes. His channel features a mix of vlogs, stunts, and charitable initiatives, attracting millions of subscribers and views.\\n\\nSince starting his YouTube career in 2012, MrBeast has become one of the most popular creators on the platform, often recognized for his innovative content and generous spirit. He has also launched several ventures, including a fast-food chain called MrBeast Burger and various charity initiatives, such as Team Trees and Team Seas, focused on environmental causes. MrBeast's influence extends beyond YouTube, making him a prominent figure in online entertainment and philanthropy.\"},\n",
       " {'role': 'user', 'content': 'Does he make international content?'},\n",
       " {'role': 'assistant',\n",
       "  'content': 'Yes, MrBeast does create international content. While much of his content is primarily designed for a U.S. audience, he has produced videos that involve international themes or settings. For example, he has traveled to various countries to film challenges or charity events, and he has engaged with fans and creators from around the world.\\n\\nAdditionally, MrBeast has made efforts to translate his content into different languages to reach a broader international audience. He has also collaborated with creators from other countries, further diversifying the content he produces. His global appeal is reflected in his large and diverse subscriber base, which includes viewers from various countries.'}]"
      ]
     },
     "execution_count": 6,
     "metadata": {},
     "output_type": "execute_result"
    }
   ],
   "source": [
    "messages"
   ]
  },
  {
   "cell_type": "code",
   "execution_count": null,
   "id": "6bcef468-e0ce-41a8-a035-56de233ac029",
   "metadata": {},
   "outputs": [],
   "source": []
  }
 ],
 "metadata": {
  "kernelspec": {
   "display_name": "Python 3 (ipykernel)",
   "language": "python",
   "name": "python3"
  },
  "language_info": {
   "codemirror_mode": {
    "name": "ipython",
    "version": 3
   },
   "file_extension": ".py",
   "mimetype": "text/x-python",
   "name": "python",
   "nbconvert_exporter": "python",
   "pygments_lexer": "ipython3",
   "version": "3.11.4"
  }
 },
 "nbformat": 4,
 "nbformat_minor": 5
}
