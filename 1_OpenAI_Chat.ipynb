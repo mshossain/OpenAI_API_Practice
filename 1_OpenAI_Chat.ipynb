{
 "cells": [
  {
   "cell_type": "code",
   "execution_count": 20,
   "id": "39c13fb9-4c3b-4ee2-a5a9-4526270dae2d",
   "metadata": {},
   "outputs": [],
   "source": [
    "# pip install openai\n",
    "from openai import OpenAI\n",
    "\n",
    "# https://platform.openai.com/docs/guides/text-generation?text-generation-quickstart-example=text\n"
   ]
  },
  {
   "cell_type": "code",
   "execution_count": 9,
   "id": "d87739a9-e609-42c0-a61d-05e553204df7",
   "metadata": {},
   "outputs": [],
   "source": [
    "# Load API key from a file\n",
    "with open(\"key.txt\", \"r\") as file:\n",
    "    my_api_key = file.read().strip()"
   ]
  },
  {
   "cell_type": "code",
   "execution_count": 10,
   "id": "f36f73c1-3bb5-4bdb-9e31-ab9be9691115",
   "metadata": {},
   "outputs": [],
   "source": [
    "client = OpenAI(api_key=my_api_key)"
   ]
  },
  {
   "cell_type": "code",
   "execution_count": 18,
   "id": "f05220a4-52a2-4fac-b4c4-40445c93f40d",
   "metadata": {},
   "outputs": [],
   "source": [
    "completion = client.chat.completions.create(\n",
    "    model=\"gpt-4o-mini\",\n",
    "    messages=[\n",
    "        {\"role\": \"system\", \"content\": \"You are a helpful assistant.\"},\n",
    "        {\n",
    "            \"role\": \"user\",\n",
    "            \"content\": \"Who is Mr. Beast?\"\n",
    "        }\n",
    "    ]\n",
    ")"
   ]
  },
  {
   "cell_type": "code",
   "execution_count": 19,
   "id": "143caf27-8132-4d2a-827e-bb6c47036b21",
   "metadata": {},
   "outputs": [
    {
     "name": "stdout",
     "output_type": "stream",
     "text": [
      "MrBeast, whose real name is Jimmy Donaldson, is a popular YouTube personality, philanthropist, and entrepreneur known for his elaborate stunts, challenges, and charitable acts. He gained fame for creating content that often involves large sums of money, such as giving away cars, homes, and significant cash prizes to contestants and random individuals. \n",
      "\n",
      "MrBeast is also recognized for his projects that aim to help charitable causes, such as food insecurity and environmental issues. One notable initiative is “Team Trees,” which he co-launched in 2019 to plant 20 million trees, and “Team Seas,” to remove trash from oceans and waterways. His innovative video concepts and generous giveaways have led him to become one of the most subscribed and highest-earning YouTube creators. \n",
      "\n",
      "As of my last update in October 2023, he has continued to expand his brand with various other projects, including merchandise lines and business ventures.\n"
     ]
    }
   ],
   "source": [
    "print(completion.choices[0].message.content)\n"
   ]
  },
  {
   "cell_type": "code",
   "execution_count": null,
   "id": "97d17443-db28-46b3-8dfe-c94246cadab2",
   "metadata": {},
   "outputs": [],
   "source": []
  }
 ],
 "metadata": {
  "kernelspec": {
   "display_name": "Python 3 (ipykernel)",
   "language": "python",
   "name": "python3"
  },
  "language_info": {
   "codemirror_mode": {
    "name": "ipython",
    "version": 3
   },
   "file_extension": ".py",
   "mimetype": "text/x-python",
   "name": "python",
   "nbconvert_exporter": "python",
   "pygments_lexer": "ipython3",
   "version": "3.11.4"
  }
 },
 "nbformat": 4,
 "nbformat_minor": 5
}
